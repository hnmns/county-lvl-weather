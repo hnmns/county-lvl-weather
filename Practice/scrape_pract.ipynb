{
 "cells": [
  {
   "cell_type": "code",
   "execution_count": 5,
   "id": "0511fe92-73c5-48b9-b72c-8a673d6e1684",
   "metadata": {},
   "outputs": [],
   "source": [
    "from bs4 import BeautifulSoup\n",
    "import requests"
   ]
  },
  {
   "cell_type": "code",
   "execution_count": 24,
   "id": "aad4f439-e17c-4ccd-bc4b-8c5179b89cb6",
   "metadata": {},
   "outputs": [
    {
     "name": "stderr",
     "output_type": "stream",
     "text": [
      "ERROR: Could not find a version that satisfies the requirement urllib2 (from versions: none)\n",
      "ERROR: No matching distribution found for urllib2\n"
     ]
    }
   ],
   "source": [
    "!pip install urllib2"
   ]
  },
  {
   "cell_type": "code",
   "execution_count": 26,
   "id": "0f4b5b5a-cb96-4dea-a3b4-60f35546d747",
   "metadata": {},
   "outputs": [],
   "source": [
    "import urllib"
   ]
  },
  {
   "cell_type": "code",
   "execution_count": 6,
   "id": "a42ce2c5-c2eb-4d7e-94ac-e2198c1868af",
   "metadata": {},
   "outputs": [],
   "source": [
    "link = 'https://data.ers.usda.gov/reports.aspx?ID=17827'"
   ]
  },
  {
   "cell_type": "code",
   "execution_count": 7,
   "id": "7f7e2670-8a7a-4828-bc85-949741b13001",
   "metadata": {},
   "outputs": [],
   "source": [
    "r = requests.get(link)"
   ]
  },
  {
   "cell_type": "code",
   "execution_count": 7,
   "id": "8331e226-20c9-463e-ac07-f69fd55fc260",
   "metadata": {},
   "outputs": [],
   "source": []
  },
  {
   "cell_type": "code",
   "execution_count": 20,
   "id": "0bc911da-d4a2-43e1-8169-28179951dc0c",
   "metadata": {
    "tags": []
   },
   "outputs": [
    {
     "data": {
      "text/plain": [
       "True"
      ]
     },
     "execution_count": 20,
     "metadata": {},
     "output_type": "execute_result"
    }
   ],
   "source": [
    "b'Alabama' in r.content"
   ]
  },
  {
   "cell_type": "code",
   "execution_count": 28,
   "id": "f511d88a-6658-4103-9ec0-25b0839d79b0",
   "metadata": {
    "tags": []
   },
   "outputs": [],
   "source": [
    "# html = urllib2.urlopen(url).read()\n",
    "# bs = BeautifulSoup(html)\n",
    "# table = bs.find(lambda tag: tag.name=='table' and tag.has_attr('id') and tag['id']==\"Table1\") \n",
    "# rows = table.findAll(lambda tag: tag.name=='tr')\n",
    "\n",
    "bama = urllib.urlopen(link).read()\n",
    "# soup = BeautifulSoup(r, parser='lxml')"
   ]
  },
  {
   "cell_type": "code",
   "execution_count": 31,
   "id": "a5904412-c1e0-4040-9d23-36553cbbd27d",
   "metadata": {
    "tags": []
   },
   "outputs": [
    {
     "data": {
      "text/plain": [
       "\u001b[1;31mType:\u001b[0m        module\n",
       "\u001b[1;31mString form:\u001b[0m <module 'urllib' from 'C:\\\\Users\\\\Riley\\\\anaconda3\\\\lib\\\\urllib\\\\__init__.py'>\n",
       "\u001b[1;31mFile:\u001b[0m        c:\\users\\riley\\anaconda3\\lib\\urllib\\__init__.py\n",
       "\u001b[1;31mDocstring:\u001b[0m   <no docstring>\n"
      ]
     },
     "metadata": {},
     "output_type": "display_data"
    }
   ],
   "source": [
    "urllib?"
   ]
  }
 ],
 "metadata": {
  "kernelspec": {
   "display_name": "Python 3 (ipykernel)",
   "language": "python",
   "name": "python3"
  },
  "language_info": {
   "codemirror_mode": {
    "name": "ipython",
    "version": 3
   },
   "file_extension": ".py",
   "mimetype": "text/x-python",
   "name": "python",
   "nbconvert_exporter": "python",
   "pygments_lexer": "ipython3",
   "version": "3.9.7"
  }
 },
 "nbformat": 4,
 "nbformat_minor": 5
}
